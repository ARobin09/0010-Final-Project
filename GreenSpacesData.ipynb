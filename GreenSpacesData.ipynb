{
 "cells": [
  {
   "cell_type": "code",
   "execution_count": 1,
   "id": "2d0d3b22-ffd9-4226-99ea-31630d9a7d85",
   "metadata": {},
   "outputs": [
    {
     "data": {
      "text/plain": [
       "Neighborhood\n",
       "East Liberty                 6\n",
       "Point Breeze                 5\n",
       "Central Business District    4\n",
       "Central Oakland              3\n",
       "South Oakland                2\n",
       "Point Breeze North           2\n",
       "Squirrel Hill South          2\n",
       "Swisshelm Park               2\n",
       "Crawford Roberts             1\n",
       "Beechview                    1\n",
       "Brookline                    1\n",
       "North Oakland                1\n",
       "Polish Hill                  1\n",
       "Regent Square                1\n",
       "Name: count, dtype: int64"
      ]
     },
     "execution_count": 1,
     "metadata": {},
     "output_type": "execute_result"
    }
   ],
   "source": [
    "import pandas as pd\n",
    "import numpy as np\n",
    "%matplotlib inline\n",
    "import matplotlib.pyplot as plt\n",
    "\n",
    "data = pd.read_csv(\"https://data.wprdc.org/dataset/cd9ae013-5b93-43d6-8793-bccf10f12c72/resource/b06fa202-ead7-491c-b8f6-2702dd35f8dd/download/opendata-pubworks-operations-green-spaces-2015.csv\")\n",
    "\n",
    "spaces = data['Neighborhood'].value_counts()\n",
    "\n",
    "spaces.head(-1)"
   ]
  },
  {
   "cell_type": "code",
   "execution_count": null,
   "id": "c8546000-6176-479e-a723-4bcdf1b6df55",
   "metadata": {},
   "outputs": [],
   "source": []
  }
 ],
 "metadata": {
  "kernelspec": {
   "display_name": "Python 3 (ipykernel)",
   "language": "python",
   "name": "python3"
  },
  "language_info": {
   "codemirror_mode": {
    "name": "ipython",
    "version": 3
   },
   "file_extension": ".py",
   "mimetype": "text/x-python",
   "name": "python",
   "nbconvert_exporter": "python",
   "pygments_lexer": "ipython3",
   "version": "3.12.4"
  }
 },
 "nbformat": 4,
 "nbformat_minor": 5
}
