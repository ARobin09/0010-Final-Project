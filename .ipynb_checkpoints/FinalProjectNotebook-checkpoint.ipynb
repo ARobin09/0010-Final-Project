{
 "cells": [
  {
   "cell_type": "markdown",
   "id": "29746624-592a-4f75-916f-7ace657af90b",
   "metadata": {},
   "source": [
    "# Introduction\n",
    "For our project, we chose the cleanest neighborhood in Pittsburgh. We devised this metric after brainstorming many ideas that often didn't have enough datasets to support them. For example, we at first wanted to do the most technologically advanced, but the best and only dataset we could was on as, smart trashcans. Another alternative metric was things to do, but we could not find very good data for this metric. We landed on cleanliness after looking at smart trashcans and gaining inspiration. We looked at what data WPRDC had on clean environment, and came up with smart trashcans, air quality, and green spaces."
   ]
  },
  {
   "cell_type": "markdown",
   "id": "7c693a55-1d2d-4778-a378-20447b9d36c6",
   "metadata": {},
   "source": [
    "# The Metric\n",
    "The metric is the closest neighborhood in Pittsburgh, and we are measuring the air quality index, the amount of green spaces available, and the amount of smart trash cans in use. The three data sets we are using from WPRDC are Operational Green Spaces, Smart Trash Containers, and Allegheny County Air Quality."
   ]
  },
  {
   "cell_type": "code",
   "execution_count": null,
   "id": "be6ef0f2-315f-4592-9b42-6750cbdb7d18",
   "metadata": {},
   "outputs": [],
   "source": []
  }
 ],
 "metadata": {
  "kernelspec": {
   "display_name": "Python 3 (ipykernel)",
   "language": "python",
   "name": "python3"
  },
  "language_info": {
   "codemirror_mode": {
    "name": "ipython",
    "version": 3
   },
   "file_extension": ".py",
   "mimetype": "text/x-python",
   "name": "python",
   "nbconvert_exporter": "python",
   "pygments_lexer": "ipython3",
   "version": "3.12.4"
  }
 },
 "nbformat": 4,
 "nbformat_minor": 5
}
