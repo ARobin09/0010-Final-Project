{
 "cells": [
  {
   "cell_type": "code",
   "execution_count": 25,
   "id": "aa57a104-5e22-460f-922e-8462731b5ccb",
   "metadata": {},
   "outputs": [
    {
     "data": {
      "text/html": [
       "<div>\n",
       "<style scoped>\n",
       "    .dataframe tbody tr th:only-of-type {\n",
       "        vertical-align: middle;\n",
       "    }\n",
       "\n",
       "    .dataframe tbody tr th {\n",
       "        vertical-align: top;\n",
       "    }\n",
       "\n",
       "    .dataframe thead th {\n",
       "        text-align: right;\n",
       "    }\n",
       "</style>\n",
       "<table border=\"1\" class=\"dataframe\">\n",
       "  <thead>\n",
       "    <tr style=\"text-align: right;\">\n",
       "      <th></th>\n",
       "      <th>_id</th>\n",
       "      <th>date</th>\n",
       "      <th>site</th>\n",
       "      <th>parameter</th>\n",
       "      <th>index_value</th>\n",
       "      <th>description</th>\n",
       "      <th>health_advisory</th>\n",
       "      <th>health_effects</th>\n",
       "    </tr>\n",
       "  </thead>\n",
       "  <tbody>\n",
       "    <tr>\n",
       "      <th>0</th>\n",
       "      <td>1</td>\n",
       "      <td>2016-01-01</td>\n",
       "      <td>Lawrenceville</td>\n",
       "      <td>PM25B</td>\n",
       "      <td>25</td>\n",
       "      <td>Good</td>\n",
       "      <td>NaN</td>\n",
       "      <td>NaN</td>\n",
       "    </tr>\n",
       "    <tr>\n",
       "      <th>1</th>\n",
       "      <td>2</td>\n",
       "      <td>2016-01-01</td>\n",
       "      <td>Flag Plaza</td>\n",
       "      <td>CO</td>\n",
       "      <td>0</td>\n",
       "      <td>Good</td>\n",
       "      <td>NaN</td>\n",
       "      <td>NaN</td>\n",
       "    </tr>\n",
       "    <tr>\n",
       "      <th>2</th>\n",
       "      <td>3</td>\n",
       "      <td>2016-01-01</td>\n",
       "      <td>Harrison Township</td>\n",
       "      <td>OZONE</td>\n",
       "      <td>31</td>\n",
       "      <td>Good</td>\n",
       "      <td>NaN</td>\n",
       "      <td>NaN</td>\n",
       "    </tr>\n",
       "    <tr>\n",
       "      <th>3</th>\n",
       "      <td>4</td>\n",
       "      <td>2016-01-01</td>\n",
       "      <td>Avalon</td>\n",
       "      <td>SO2</td>\n",
       "      <td>10</td>\n",
       "      <td>Good</td>\n",
       "      <td>NaN</td>\n",
       "      <td>NaN</td>\n",
       "    </tr>\n",
       "    <tr>\n",
       "      <th>4</th>\n",
       "      <td>5</td>\n",
       "      <td>2016-01-01</td>\n",
       "      <td>Lincoln</td>\n",
       "      <td>PM25</td>\n",
       "      <td>35</td>\n",
       "      <td>Good</td>\n",
       "      <td>NaN</td>\n",
       "      <td>NaN</td>\n",
       "    </tr>\n",
       "  </tbody>\n",
       "</table>\n",
       "</div>"
      ],
      "text/plain": [
       "   _id        date               site parameter  index_value description  \\\n",
       "0    1  2016-01-01      Lawrenceville     PM25B           25        Good   \n",
       "1    2  2016-01-01         Flag Plaza        CO            0        Good   \n",
       "2    3  2016-01-01  Harrison Township     OZONE           31        Good   \n",
       "3    4  2016-01-01             Avalon       SO2           10        Good   \n",
       "4    5  2016-01-01            Lincoln      PM25           35        Good   \n",
       "\n",
       "  health_advisory health_effects  \n",
       "0             NaN            NaN  \n",
       "1             NaN            NaN  \n",
       "2             NaN            NaN  \n",
       "3             NaN            NaN  \n",
       "4             NaN            NaN  "
      ]
     },
     "execution_count": 25,
     "metadata": {},
     "output_type": "execute_result"
    }
   ],
   "source": [
    "import pandas as pd\n",
    "\n",
    "df = pd.read_csv('https://data.wprdc.org/datastore/dump/4ab1e23f-3262-4bd3-adbf-f72f0119108b')\n",
    "quality = pd.read_csv(\"https://data.wprdc.org/datastore/dump/4ab1e23f-3262-4bd3-adbf-f72f0119108b\")\n",
    "quality.head()\n"
   ]
  },
  {
   "cell_type": "code",
   "execution_count": 23,
   "id": "58d9bac8-7269-4c67-8562-4a6e8083fcd4",
   "metadata": {},
   "outputs": [
    {
     "data": {
      "text/plain": [
       "22.086296265164886"
      ]
     },
     "execution_count": 23,
     "metadata": {},
     "output_type": "execute_result"
    }
   ],
   "source": [
    "mean_airQuality = quality['index_value'].mean()\n",
    "\n",
    "mean_airQuality"
   ]
  },
  {
   "cell_type": "code",
   "execution_count": 41,
   "id": "b3692259-fc25-49d8-80af-3afabef662c7",
   "metadata": {},
   "outputs": [
    {
     "name": "stdout",
     "output_type": "stream",
     "text": [
      "Index(['_id', 'date', 'site', 'parameter', 'index_value', 'description',\n",
      "       'health_advisory', 'health_effects'],\n",
      "      dtype='object')\n",
      "                     site  index_value\n",
      "6         Lawrenceville 2     3.052910\n",
      "14           West Mifflin     6.335548\n",
      "2              Flag Plaza     9.949275\n",
      "3   Glassport High Street    17.390411\n",
      "7                 Liberty    17.954855\n",
      "10         North Braddock    18.819053\n",
      "11           Parkway East    21.647411\n",
      "13          South Fayette    23.851167\n",
      "0                  Avalon    24.246547\n",
      "4       Harrison Township    24.297538\n",
      "12             Pittsburgh    25.101287\n",
      "1                Clairton    27.963281\n",
      "8               Liberty 2    32.154963\n",
      "9                 Lincoln    35.108002\n",
      "5           Lawrenceville    37.644931\n"
     ]
    }
   ],
   "source": [
    "df = pd.read_csv('https://data.wprdc.org/datastore/dump/4ab1e23f-3262-4bd3-adbf-f72f0119108b')\n",
    "\n",
    "print(df.columns)\n",
    "\n",
    "ave_aqi = df.groupby('site')['index_value'].mean().reset_index()\n",
    "\n",
    "ave_aqi.columns = ['site', 'index_value']\n",
    "\n",
    "ave_aqi = average_aqi.sort_values(by='index_value', ascending = True)\n",
    "\n",
    "print(ave_aqi)"
   ]
  },
  {
   "cell_type": "code",
   "execution_count": null,
   "id": "103e55ba-cd35-4fbf-b118-1b4a330a0440",
   "metadata": {},
   "outputs": [],
   "source": []
  },
  {
   "cell_type": "code",
   "execution_count": null,
   "id": "c3d9633d-c210-49d9-833c-43b736f4f96f",
   "metadata": {},
   "outputs": [],
   "source": []
  }
 ],
 "metadata": {
  "kernelspec": {
   "display_name": "Python 3 (ipykernel)",
   "language": "python",
   "name": "python3"
  },
  "language_info": {
   "codemirror_mode": {
    "name": "ipython",
    "version": 3
   },
   "file_extension": ".py",
   "mimetype": "text/x-python",
   "name": "python",
   "nbconvert_exporter": "python",
   "pygments_lexer": "ipython3",
   "version": "3.12.4"
  }
 },
 "nbformat": 4,
 "nbformat_minor": 5
}
