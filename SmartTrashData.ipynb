{
 "cells": [
  {
   "cell_type": "code",
   "execution_count": 14,
   "id": "df07395e-f20e-432e-a3ac-0c7bbed5ac57",
   "metadata": {},
   "outputs": [
    {
     "data": {
      "text/plain": [
       "neighborhood\n",
       "Shadyside              76\n",
       "East Liberty           68\n",
       "Squirrel Hill South    63\n",
       "Bloomfield             58\n",
       "North Shore            53\n",
       "                       ..\n",
       "Bedford Dwellings       1\n",
       "Mt. Oliver              1\n",
       "East Carnegie           1\n",
       "Windgap                 1\n",
       "South Shore             1\n",
       "Name: count, Length: 78, dtype: int64"
      ]
     },
     "execution_count": 14,
     "metadata": {},
     "output_type": "execute_result"
    }
   ],
   "source": [
    "import pandas as pd\n",
    "import numpy as np\n",
    "%matplotlib inline\n",
    "import matplotlib.pyplot as plt\n",
    "\n",
    "data = pd.read_csv(\"https://data.wprdc.org/datastore/dump/75b83ac9-8069-4cf1-bcc3-b9e6b04487d9\")\n",
    "\n",
    "locations = data['neighborhood'].value_counts()\n",
    "\n",
    "locations.head(-1)"
   ]
  },
  {
   "cell_type": "code",
   "execution_count": null,
   "id": "67cb2933-eea7-4106-b37c-e191111d7b79",
   "metadata": {},
   "outputs": [],
   "source": []
  }
 ],
 "metadata": {
  "kernelspec": {
   "display_name": "Python 3 (ipykernel)",
   "language": "python",
   "name": "python3"
  },
  "language_info": {
   "codemirror_mode": {
    "name": "ipython",
    "version": 3
   },
   "file_extension": ".py",
   "mimetype": "text/x-python",
   "name": "python",
   "nbconvert_exporter": "python",
   "pygments_lexer": "ipython3",
   "version": "3.12.4"
  }
 },
 "nbformat": 4,
 "nbformat_minor": 5
}
